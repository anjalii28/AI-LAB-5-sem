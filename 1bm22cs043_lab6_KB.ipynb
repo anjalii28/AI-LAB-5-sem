{
  "nbformat": 4,
  "nbformat_minor": 0,
  "metadata": {
    "colab": {
      "provenance": []
    },
    "kernelspec": {
      "name": "python3",
      "display_name": "Python 3"
    },
    "language_info": {
      "name": "python"
    }
  },
  "cells": [
    {
      "cell_type": "code",
      "execution_count": 1,
      "metadata": {
        "colab": {
          "base_uri": "https://localhost:8080/"
        },
        "id": "wdpFtfYZ2GKt",
        "outputId": "c65ec39d-8615-48ff-d696-eaeeec752545"
      },
      "outputs": [
        {
          "output_type": "stream",
          "name": "stdout",
          "text": [
            "Enter the KB expression (use 'and', 'or', 'not', 'implies' for ->): (A and B) or (A implies B)\n",
            "Enter the alpha (query) expression: A or B\n",
            "Truth Table:\n",
            "A B | KB | alpha\n",
            "-------------------------\n",
            "True True | True | True\n",
            "True False | True | True\n",
            "False True | False | True\n",
            "False False | True | False\n",
            "\n",
            "KB does not entail alpha.\n"
          ]
        }
      ],
      "source": [
        "from itertools import product\n",
        "\n",
        "def parse_expression(expression, symbols):\n",
        "\n",
        "    for symbol in symbols:\n",
        "        expression = expression.replace(symbol, f\"values['{symbol}']\")\n",
        "    return eval(\"lambda values: \" + expression)\n",
        "\n",
        "def generate_truth_table(symbols):\n",
        "\n",
        "    return [dict(zip(symbols, values)) for values in product([True, False], repeat=len(symbols))]\n",
        "\n",
        "def check_entailment(kb_expr, alpha_expr, symbols):\n",
        "    kb_lambda = parse_expression(kb_expr, symbols)\n",
        "    alpha_lambda = parse_expression(alpha_expr, symbols)\n",
        "\n",
        "    truth_table = generate_truth_table(symbols)\n",
        "    entails = True\n",
        "\n",
        "\n",
        "    print(\"Truth Table:\")\n",
        "    print(f\"{' '.join(symbols)} | KB | alpha\")\n",
        "    print(\"-\" * (len(symbols) * 5 + 15))\n",
        "\n",
        "    for row in truth_table:\n",
        "        kb_value = kb_lambda(row)\n",
        "        alpha_value = alpha_lambda(row)\n",
        "\n",
        "        print(f\"{' '.join(str(row[symbol]) for symbol in symbols)} | {kb_value} | {alpha_value}\")\n",
        "\n",
        "\n",
        "        if kb_value and not alpha_value:\n",
        "            entails = False\n",
        "\n",
        "    return entails\n",
        "\n",
        "\n",
        "kb_expr = input(\"Enter the KB expression (use 'and', 'or', 'not', 'implies' for ->): \")\n",
        "alpha_expr = input(\"Enter the alpha (query) expression: \")\n",
        "\n",
        "symbols = sorted(set(kb_expr.replace(\"and\", \"\").replace(\"or\", \"\").replace(\"not\", \"\").replace(\"(\", \"\").replace(\")\", \"\").replace(\"implies\", \"\").split()) |\n",
        "                 set(alpha_expr.replace(\"and\", \"\").replace(\"or\", \"\").replace(\"not\", \"\").replace(\"(\", \"\").replace(\")\", \"\").replace(\"implies\", \"\").split()))\n",
        "\n",
        "\n",
        "kb_expr = kb_expr.replace(\"implies\", \" or not \")\n",
        "alpha_expr = alpha_expr.replace(\"implies\", \" or not \")\n",
        "\n",
        "\n",
        "entails = check_entailment(kb_expr, alpha_expr, symbols)\n",
        "print(\"\\nKB entails alpha:\" if entails else \"\\nKB does not entail alpha.\")"
      ]
    }
  ]
}