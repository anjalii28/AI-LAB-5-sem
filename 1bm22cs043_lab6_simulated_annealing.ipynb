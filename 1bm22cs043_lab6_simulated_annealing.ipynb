{
  "nbformat": 4,
  "nbformat_minor": 0,
  "metadata": {
    "colab": {
      "provenance": []
    },
    "kernelspec": {
      "name": "python3",
      "display_name": "Python 3"
    },
    "language_info": {
      "name": "python"
    }
  },
  "cells": [
    {
      "cell_type": "code",
      "source": [
        "import random\n",
        "import math\n",
        "\n",
        "def initialize_board(n):\n",
        "\n",
        "    return [random.randint(0, n - 1) for _ in range(n)]\n",
        "\n",
        "def calculate_conflicts(board):\n",
        "\n",
        "    conflicts = 0\n",
        "    n = len(board)\n",
        "    for i in range(n):\n",
        "        for j in range(i + 1, n):\n",
        "            if board[i] == board[j] or abs(board[i] - board[j]) == j - i:\n",
        "                conflicts += 1\n",
        "    return conflicts\n",
        "\n",
        "def simulated_annealing(n, max_iterations=10000, initial_temp=100, cooling_rate=0.99):\n",
        "    board = initialize_board(n)\n",
        "    current_conflicts = calculate_conflicts(board)\n",
        "    temperature = initial_temp\n",
        "\n",
        "    for iteration in range(max_iterations):\n",
        "        if current_conflicts == 0:\n",
        "            print(f\"Iteration {iteration}: Solution found!\")\n",
        "            print(\"Board Position:\", board)\n",
        "            return board\n",
        "\n",
        "\n",
        "        row = random.randint(0, n - 1)\n",
        "        new_col = random.randint(0, n - 1)\n",
        "        while new_col == board[row]:\n",
        "            new_col = random.randint(0, n - 1)\n",
        "\n",
        "\n",
        "        new_board = board[:]\n",
        "        new_board[row] = new_col\n",
        "        new_conflicts = calculate_conflicts(new_board)\n",
        "\n",
        "\n",
        "        delta_conflicts = new_conflicts - current_conflicts\n",
        "\n",
        "\n",
        "        if delta_conflicts < 0 or math.exp(-delta_conflicts / temperature) > random.random():\n",
        "            board, current_conflicts = new_board, new_conflicts\n",
        "\n",
        "\n",
        "        print(f\"Iteration {iteration}: Temperature={temperature:.2f}, Current Conflicts={current_conflicts}, \"\n",
        "              f\"Delta Conflicts={delta_conflicts}, New Position for Row {row} -> Column {new_col}\")\n",
        "        print(\"Board Position:\", board)\n",
        "\n",
        "\n",
        "        temperature *= cooling_rate\n",
        "\n",
        "    print(\"No solution found within the maximum iterations.\")\n",
        "    return None\n",
        "\n",
        "\n",
        "n = 8\n",
        "solution = simulated_annealing(n)\n",
        "if solution:\n",
        "    print(\"Final Solution:\", solution)\n",
        "else:\n",
        "    print(\"No solution found within the maximum iterations.\")\n"
      ],
      "metadata": {
        "id": "2BpnWuwnoCp6"
      },
      "execution_count": null,
      "outputs": []
    }
  ]
}