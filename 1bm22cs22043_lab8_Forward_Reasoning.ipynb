{
  "nbformat": 4,
  "nbformat_minor": 0,
  "metadata": {
    "colab": {
      "provenance": []
    },
    "kernelspec": {
      "name": "python3",
      "display_name": "Python 3"
    },
    "language_info": {
      "name": "python"
    }
  },
  "cells": [
    {
      "cell_type": "code",
      "execution_count": 7,
      "metadata": {
        "colab": {
          "base_uri": "https://localhost:8080/"
        },
        "id": "igcBlZbimsvX",
        "outputId": "c5197b6b-14d1-4192-9065-0f32048696e5"
      },
      "outputs": [
        {
          "output_type": "stream",
          "name": "stdout",
          "text": [
            "Applied rule: ['Missile(T1)'] -> ['Weapon(T1)']\n",
            "New facts: {'Weapon(T1)'}\n",
            "Updated facts: {'Missile(T1)', 'Enemy(A, America)', 'Weapon(T1)', 'Owns(A, T1)', 'American(Robert)'}\n",
            "Applied rule: ['Enemy(A, America)'] -> ['Hostile(A)']\n",
            "New facts: {'Hostile(A)'}\n",
            "Updated facts: {'Missile(T1)', 'Hostile(A)', 'Enemy(A, America)', 'Weapon(T1)', 'Owns(A, T1)', 'American(Robert)'}\n",
            "\n",
            "Robert is not a criminal.\n"
          ]
        }
      ],
      "source": [
        "class ForwardReasoning:\n",
        "    def __init__(self, facts, rules):\n",
        "        \"\"\"\n",
        "        Initialize the forward reasoning system with facts and rules.\n",
        "        :param facts: List of known facts (strings).\n",
        "        :param rules: List of rules in the format (condition, conclusion).\n",
        "                      Condition and conclusion are both lists of facts.\n",
        "        \"\"\"\n",
        "        self.facts = set(facts)  # Facts known initially\n",
        "        self.rules = rules  # Rules to apply\n",
        "\n",
        "    def apply_rule(self, rule):\n",
        "        \"\"\"\n",
        "        Apply a single rule if its condition is met.\n",
        "        :param rule: A tuple where the first element is a list of conditions and the second is the conclusion.\n",
        "        :return: True if the rule was applied (new facts were added), False otherwise.\n",
        "        \"\"\"\n",
        "        condition, conclusion = rule\n",
        "\n",
        "        # Check if the rule's conditions are all in the known facts\n",
        "        if all(c in self.facts for c in condition):\n",
        "            # If condition is met, add the conclusion facts to the known facts\n",
        "            new_facts = set(conclusion) - self.facts  # Only add new facts\n",
        "            if new_facts:\n",
        "                self.facts.update(new_facts)\n",
        "                print(f\"Applied rule: {condition} -> {conclusion}\")\n",
        "                print(f\"New facts: {new_facts}\")\n",
        "                print(f\"Updated facts: {self.facts}\")\n",
        "                return True\n",
        "        return False\n",
        "\n",
        "    def forward_chain(self):\n",
        "        \"\"\"\n",
        "        Perform forward chaining until no new facts can be derived.\n",
        "        \"\"\"\n",
        "        applied = True\n",
        "        while applied:\n",
        "            applied = False\n",
        "            # Try to apply each rule\n",
        "            for rule in self.rules:\n",
        "                if self.apply_rule(rule):\n",
        "                    applied = True\n",
        "\n",
        "    def get_facts(self):\n",
        "        \"\"\"Return the current set of facts.\"\"\"\n",
        "        return self.facts\n",
        "\n",
        "\n",
        "# Given Facts\n",
        "facts = [\n",
        "    \"Owns(A, T1)\",  # Country A owns missile T1\n",
        "    \"Missile(T1)\",  # T1 is a missile\n",
        "    \"Enemy(A, America)\",  # A is an enemy of America\n",
        "    \"American(Robert)\",  # Robert is American\n",
        "]\n",
        "\n",
        "# Rules based on the problem\n",
        "rules = [\n",
        "    # Rule (5): If a missile, then it's a weapon\n",
        "    ([\"Missile(T1)\"], [\"Weapon(T1)\"]),  # T1 is a weapon\n",
        "\n",
        "    # Rule (6): If an enemy of America, then hostile\n",
        "    ([\"Enemy(A, America)\"], [\"Hostile(A)\"]),  # A is hostile\n",
        "\n",
        "    # Rule (4): If country A owns missile p and p is a missile, then Robert sells it to A\n",
        "    ([\"Missile(p)\", \"Owns(A, p)\"], [\"Sells(Robert, p, A)\"]),  # Robert sells to A\n",
        "\n",
        "    # Rule (1): If p is American, p sells weapon q to a hostile r, then p is criminal\n",
        "    ([\"American(p)\", \"Weapon(q)\", \"Sells(p, q, r)\", \"Hostile(r)\"], [\"Criminal(p)\"]),  # Robert is criminal\n",
        "]\n",
        "\n",
        "# Initialize the forward reasoning system\n",
        "reasoner = ForwardReasoning(facts, rules)\n",
        "\n",
        "# Perform forward chaining and print the steps\n",
        "reasoner.forward_chain()\n",
        "\n",
        "# Get the final set of facts\n",
        "final_facts = reasoner.get_facts()\n",
        "\n",
        "# Check if the final facts contain Criminal(Robert)\n",
        "if \"Criminal(Robert)\" in final_facts:\n",
        "    print(\"\\nRobert is a criminal.\")\n",
        "else:\n",
        "    print(\"\\nRobert is not a criminal.\")\n"
      ]
    }
  ]
}